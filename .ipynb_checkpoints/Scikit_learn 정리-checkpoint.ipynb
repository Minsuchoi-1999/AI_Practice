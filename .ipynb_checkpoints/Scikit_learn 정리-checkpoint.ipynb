{
 "cells": [
  {
   "cell_type": "markdown",
   "id": "24e7785e",
   "metadata": {},
   "source": [
    "## 마지막 복습"
   ]
  },
  {
   "cell_type": "code",
   "execution_count": 2,
   "id": "7e91dfb6",
   "metadata": {},
   "outputs": [
    {
     "name": "stdout",
     "output_type": "stream",
     "text": [
      "[[ 0.  0.  5. ...  0.  0.  0.]\n",
      " [ 0.  0.  0. ... 10.  0.  0.]\n",
      " [ 0.  0.  0. ... 16.  9.  0.]\n",
      " ...\n",
      " [ 0.  0.  1. ...  6.  0.  0.]\n",
      " [ 0.  0.  2. ... 12.  0.  0.]\n",
      " [ 0.  0. 10. ... 12.  1.  0.]]\n"
     ]
    }
   ],
   "source": [
    "from sklearn import datasets\n",
    "\n",
    "digits = datasets.load_digits()\n",
    "\n",
    "print(digits.data)"
   ]
  },
  {
   "cell_type": "markdown",
   "id": "83320134",
   "metadata": {},
   "source": [
    "### 지도학습의 특징\n",
    "\n",
    "입력 데이터와 출력 데이터가 나뉨 \n",
    "위에는 입력 데이터임.\n",
    "아래는 출력 데이터임. (즉 정답과 오답을 나눌 수 있어야함)"
   ]
  },
  {
   "cell_type": "code",
   "execution_count": 3,
   "id": "19a851b3",
   "metadata": {},
   "outputs": [
    {
     "data": {
      "text/plain": [
       "array([[ 0.,  0.,  5., 13.,  9.,  1.,  0.,  0.],\n",
       "       [ 0.,  0., 13., 15., 10., 15.,  5.,  0.],\n",
       "       [ 0.,  3., 15.,  2.,  0., 11.,  8.,  0.],\n",
       "       [ 0.,  4., 12.,  0.,  0.,  8.,  8.,  0.],\n",
       "       [ 0.,  5.,  8.,  0.,  0.,  9.,  8.,  0.],\n",
       "       [ 0.,  4., 11.,  0.,  1., 12.,  7.,  0.],\n",
       "       [ 0.,  2., 14.,  5., 10., 12.,  0.,  0.],\n",
       "       [ 0.,  0.,  6., 13., 10.,  0.,  0.,  0.]])"
      ]
     },
     "execution_count": 3,
     "metadata": {},
     "output_type": "execute_result"
    }
   ],
   "source": [
    "digits.images[0]"
   ]
  },
  {
   "cell_type": "markdown",
   "id": "31724d48",
   "metadata": {},
   "source": [
    "## **Q1. SVC가 뭔데**\n",
    "\n",
    "\n",
    "Support Vector Classification (SVC)은 지도학습(Supervised Learning)에서 사용되는 분류(Classification) 알고리즘 중 하나입니다. 이 알고리즘은 주어진 데이터를 두 개 이상의 그룹 또는 클래스로 분류하는 작업에 사용됩니다.\n",
    "\n",
    "SVC의 작동 방식은 간단하지만 매우 강력합니다. 알고리즘은 주어진 데이터의 특성을 바탕으로 하여 데이터 포인트를 공간에 매핑한 후, 이를 가장 잘 분리하는 초평면(hyperplane)을 찾습니다. 이 때, 초평면과 가장 가까이에 있는 데이터 포인트들을 서포트 벡터(Support Vectors)라고 합니다. SVC는 이러한 서포트 벡터들을 활용하여 최적의 분리 초평면을 찾습니다.\n",
    "\n",
    "SVC는 선형적인 데이터뿐만 아니라 비선형적인 데이터에도 적용할 수 있습니다. 이를 위해 SVC는 커널 트릭(kernel trick)이라는 방법을 사용하여 데이터를 고차원 공간으로 변환하여 선형적으로 분리할 수 있는 공간으로 매핑합니다.\n",
    "\n",
    "SVC는 마진(margin)을 최대화하여 일반화 성능을 향상시키는데 중점을 두기 때문에, 이상치(outlier)에 민감하지 않고 안정적인 분류 결과를 제공하는 특징이 있습니다. 따라서 데이터가 선형적으로 분리 가능한 경우에 특히 효과적입니다."
   ]
  },
  {
   "cell_type": "markdown",
   "id": "8877e3d7",
   "metadata": {},
   "source": [
    "## **Q2. parameter C는 뭐고, gamma는 뭔데**\n",
    "\n",
    "scikit-learn의 SVC(Support Vector Classification)는 서포트 벡터 머신(Support Vector Machine, SVM)을 기반으로 한 분류 모델입니다.\n",
    "\n",
    "C는 오차 허용 값입니다. C가 클수록 모델이 훈련 데이터에 대해 더 많은 오류를 허용하지 않으려고 하며, 이로 인해 결정 경계가 더 많이 굴곡지고 복잡해질 수 있습니다. C가 작을수록 모델이 훈련 데이터에 대해 보다 많은 오류를 허용하므로 결정 경계가 단순해집니다.\n",
    "\n",
    "gamma는 커널 계수입니다. gamma가 크면 모델이 훈련 데이터에 더 많이 적합하려고 하며, 이로 인해 결정 경계가 더 구불구불해질 수 있습니다. 반면에 gamma가 작을수록 결정 경계가 부드럽고 단순해집니다.\n",
    "\n",
    "이러한 매개변수들은 모델의 복잡도와 일반화 강도에 영향을 미칩니다. 적절한 C와 gamma 값을 선택하는 것은 모델의 성능을 최적화하는 데 중요합니다. 이를 위해서는 교차 검증 및 그리드 서치와 같은 기법을 사용하여 매개변수를 튜닝하는 것이 일반적입니다."
   ]
  },
  {
   "cell_type": "markdown",
   "id": "54820944",
   "metadata": {},
   "source": [
    "## **Q3. 결정경계는 뭔데...**\n",
    "\n",
    "\n",
    "결정 경계(Decision boundary)는 분류 모델에서 클래스를 나누는 경계를 나타냅니다. SVM(Support Vector Machine)과 같은 분류 알고리즘에서 결정 경계는 클래스 간의 경계를 정의하는 초평면(hyperplane)입니다.\n",
    "\n",
    "이 초평면은 입력 공간에서 클래스를 나누는 역할을 합니다. 이진 분류의 경우, 결정 경계는 두 클래스 간의 경계를 정의하는 선입니다. 다중 클래스 분류의 경우, 결정 경계는 각 클래스 간의 경계를 정의하는 초평면이 될 수 있습니다.\n",
    "\n",
    "모델이 학습되면 결정 경계는 학습된 데이터의 패턴을 기반으로 그려집니다. 이 결정 경계는 새로운 데이터가 어느 클래스에 속하는지 결정하는 데 사용됩니다. 즉, 결정 경계는 모델이 예측을 수행할 때 입력 데이터를 기반으로 클래스 레이블을 할당하는 데 사용됩니다.\n",
    "\n",
    "=> 즉 정, 오답을 나누는 경계라는 것."
   ]
  },
  {
   "cell_type": "markdown",
   "id": "3a55cec7",
   "metadata": {},
   "source": [
    "## **Q4. 그럼 커널은 뭐고 커널 트릭은 뭔데**\n",
    "\n",
    "커널(kernel)은 SVM(Support Vector Machine)에서 사용되는 중요한 개념 중 하나입니다. SVM은 선형적으로 구분되지 않는 데이터를 분류하기 위해 사용되는데, 커널은 데이터를 고차원 공간으로 매핑하여 선형적으로 구분될 수 있도록 돕습니다.\n",
    "\n",
    "커널은 주어진 데이터의 특징을 더 높은 차원으로 변환하는 함수입니다. 이를 통해 비선형 데이터를 선형 분리 가능한 데이터로 변환할 수 있습니다. SVM에서는 주로 선형, 다항식, 가우시안(RBF: Radial Basis Function) 등의 다양한 종류의 커널을 사용합니다.\n",
    "\n",
    "커널 계수(gamma)는 가우시안 커널과 같은 일부 커널 함수에서 사용되는 매개변수입니다. 이 매개변수는 커널 함수의 영향 범위를 제어하며, 작은 gamma 값은 넓은 영역을 의미하고, 큰 gamma 값은 영향이 미치는 범위가 제한됨을 의미합니다. 즉, gamma가 클수록 모델이 훈련 데이터에 더 많이 적합하려고 하며, 결정 경계가 더 복잡해질 수 있습니다.\n",
    "\n",
    "\n",
    "고차원 특성 공간으로의 매핑은 실제로는 이루어지지 않지만, 커널 트릭을 사용하면 그런 효과를 얻을 수 있습니다. 이를 이해하기 위해 우선 SVM의 기본 아이디어를 간단히 살펴보겠습니다.\n",
    "\n",
    "SVM은 입력 데이터를 고차원 특성 공간으로 매핑하여 선형 분리 가능한 상태로 만든 다음, 최적의 경계를 찾는 모델입니다. 그러나 커널 트릭을 사용하면 데이터를 명시적으로 고차원으로 매핑하지 않고도 고차원 공간에서의 내적을 계산할 수 있습니다.\n",
    "\n",
    "여기서 중요한 점은 커널 함수(kernel function)입니다. 커널 함수는 두 데이터 포인트 간의 유사도를 계산하는 함수로, 이를 통해 고차원 공간에서의 내적을 추정할 수 있습니다. 예를 들어, 가우시안 커널 함수를 사용하면 데이터 포인트 간의 유사도를 측정하여 내적을 근사화할 수 있습니다.\n",
    "\n",
    "이렇게 커널 함수를 사용하면 데이터를 명시적으로 고차원으로 매핑하지 않고도 고차원 공간에서의 내적을 계산할 수 있습니다. 따라서 커널 트릭을 사용하면 SVM과 같은 모델이 비선형 문제를 해결할 수 있고, 더 복잡한 결정 경계를 학습할 수 있습니다.\n",
    "\n",
    "즉, 커널 트릭은 고차원 특성 공간으로의 매핑 없이도 고차원에서의 연산을 수행할 수 있게 해줍니다."
   ]
  },
  {
   "cell_type": "code",
   "execution_count": 4,
   "id": "7ef5d64e",
   "metadata": {},
   "outputs": [
    {
     "data": {
      "text/plain": [
       "SVC(C=100.0, gamma=0.001)"
      ]
     },
     "execution_count": 4,
     "metadata": {},
     "output_type": "execute_result"
    }
   ],
   "source": [
    "from sklearn import svm\n",
    "clf = svm.SVC(gamma=0.001, C=100.)\n",
    "clf.fit(digits.data[:-1], digits.target[:-1])"
   ]
  },
  {
   "cell_type": "code",
   "execution_count": 5,
   "id": "1aad48c0",
   "metadata": {},
   "outputs": [
    {
     "data": {
      "text/plain": [
       "array([8])"
      ]
     },
     "execution_count": 5,
     "metadata": {},
     "output_type": "execute_result"
    }
   ],
   "source": [
    "clf.predict(digits.data[-1:])"
   ]
  },
  {
   "cell_type": "markdown",
   "id": "078fe342",
   "metadata": {},
   "source": [
    "이제는 대충 이해가 되는게, 수집 ->  전처리 -> 학습 -> 예측(테스트)"
   ]
  }
 ],
 "metadata": {
  "kernelspec": {
   "display_name": "Python 3 (ipykernel)",
   "language": "python",
   "name": "python3"
  },
  "language_info": {
   "codemirror_mode": {
    "name": "ipython",
    "version": 3
   },
   "file_extension": ".py",
   "mimetype": "text/x-python",
   "name": "python",
   "nbconvert_exporter": "python",
   "pygments_lexer": "ipython3",
   "version": "3.9.12"
  }
 },
 "nbformat": 4,
 "nbformat_minor": 5
}
